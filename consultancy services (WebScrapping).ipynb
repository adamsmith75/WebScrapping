{
 "cells": [
  {
   "cell_type": "code",
   "execution_count": 1,
   "id": "fb5b8727",
   "metadata": {},
   "outputs": [],
   "source": [
    "import pandas as pd\n",
    "import requests\n",
    "from bs4 import BeautifulSoup as bs "
   ]
  },
  {
   "cell_type": "code",
   "execution_count": 2,
   "id": "c406a381",
   "metadata": {},
   "outputs": [],
   "source": [
    "url = 'https://www.sulekha.com/placement-consultants/pune'\n",
    "\n",
    "response = requests.get(url)"
   ]
  },
  {
   "cell_type": "code",
   "execution_count": 3,
   "id": "1da8b1fc",
   "metadata": {},
   "outputs": [
    {
     "data": {
      "text/plain": [
       "200"
      ]
     },
     "execution_count": 3,
     "metadata": {},
     "output_type": "execute_result"
    }
   ],
   "source": [
    "response.status_code"
   ]
  },
  {
   "cell_type": "code",
   "execution_count": 4,
   "id": "5b69777c",
   "metadata": {},
   "outputs": [],
   "source": [
    "content = response.content"
   ]
  },
  {
   "cell_type": "code",
   "execution_count": 5,
   "id": "7615a979",
   "metadata": {
    "scrolled": true
   },
   "outputs": [],
   "source": [
    "soup = bs(content)"
   ]
  },
  {
   "cell_type": "code",
   "execution_count": 6,
   "id": "7ea26553",
   "metadata": {},
   "outputs": [
    {
     "data": {
      "text/plain": [
       "'Vijaya Management Services'"
      ]
     },
     "execution_count": 6,
     "metadata": {},
     "output_type": "execute_result"
    }
   ],
   "source": [
    "soup.select('h3.title-xlarge')[0].string"
   ]
  },
  {
   "cell_type": "code",
   "execution_count": 7,
   "id": "931255ec",
   "metadata": {},
   "outputs": [
    {
     "data": {
      "text/plain": [
       "['Vijaya Management Services',\n",
       " 'Vintage HR Corporate Consultants',\n",
       " 'Citrus HR Consultants',\n",
       " 'Career Choice Solution',\n",
       " 'Digigen Technology Pvt. Ltd.',\n",
       " 'Gateway HR Consultants Private Limited',\n",
       " 'Ideal Crew Technology',\n",
       " 'Inspire People Consultancy',\n",
       " 'Orbitouch Outsourcing Pvt. Ltd.',\n",
       " 'Global Talent Pool ']"
      ]
     },
     "execution_count": 7,
     "metadata": {},
     "output_type": "execute_result"
    }
   ],
   "source": [
    "companies = [name.string for name in soup.select('h3.title-xlarge')]\n",
    "\n",
    "companies"
   ]
  },
  {
   "cell_type": "code",
   "execution_count": 8,
   "id": "76a09cd8",
   "metadata": {},
   "outputs": [
    {
     "data": {
      "text/plain": [
       "'Deccan Gymkhana, Pune, 411004'"
      ]
     },
     "execution_count": 8,
     "metadata": {},
     "output_type": "execute_result"
    }
   ],
   "source": [
    "l1 = soup.select('div.locality')[0].span.string.strip().split()\n",
    "' '.join(l1)"
   ]
  },
  {
   "cell_type": "code",
   "execution_count": 9,
   "id": "0df157cc",
   "metadata": {},
   "outputs": [
    {
     "data": {
      "text/plain": [
       "['Deccan Gymkhana, Pune, 411004',\n",
       " 'Moshi, Pimpri Chinchwad, 410105',\n",
       " 'Andheri East, Mumbai, 400059',\n",
       " 'Vashi, Mumbai, 400705',\n",
       " 'Uttam Nagar, Delhi, 110059',\n",
       " 'Pune R.S., Pune, 412105',\n",
       " 'Balaji Nagar, Pune, 411043',\n",
       " 'Ganga Nagar, Bangalore, 560032',\n",
       " 'Tilak Nagar, Delhi, 110057',\n",
       " 'Mathikere, Bangalore, 560054']"
      ]
     },
     "execution_count": 9,
     "metadata": {},
     "output_type": "execute_result"
    }
   ],
   "source": [
    "address = [' '.join(address.span.string.strip().split()) for address in soup.select('div.locality')]\n",
    "\n",
    "address"
   ]
  },
  {
   "cell_type": "code",
   "execution_count": 10,
   "id": "ef9105de",
   "metadata": {},
   "outputs": [
    {
     "data": {
      "text/plain": [
       "<b>3.3/5</b>"
      ]
     },
     "execution_count": 10,
     "metadata": {},
     "output_type": "execute_result"
    }
   ],
   "source": [
    "soup.select('div.ratings-group')[0].b"
   ]
  },
  {
   "cell_type": "code",
   "execution_count": 11,
   "id": "c36936ba",
   "metadata": {},
   "outputs": [
    {
     "name": "stdout",
     "output_type": "stream",
     "text": [
      "3.3\n",
      "4.6\n",
      "5.0\n",
      "4.7\n",
      "4.3\n",
      "5.0\n",
      "3.0\n",
      "4.7\n",
      "5.0\n",
      "5.0\n",
      "4.0\n"
     ]
    }
   ],
   "source": [
    "for rating in soup.select('div.ratings-group'):\n",
    "    if rating.b is not None:\n",
    "        print(rating.b.string[:3])"
   ]
  },
  {
   "cell_type": "code",
   "execution_count": 12,
   "id": "ed8c7d7e",
   "metadata": {},
   "outputs": [
    {
     "data": {
      "text/plain": [
       "[3.3, 4.6, 5.0, 4.7, 4.3, 5.0, 3.0, 4.7, 5.0, 5.0]"
      ]
     },
     "execution_count": 12,
     "metadata": {},
     "output_type": "execute_result"
    }
   ],
   "source": [
    "rating = [rating.b.string[:3] for rating in soup.select('div.ratings-group') if rating.b is not None ]\n",
    "\n",
    "rating = [float(num) for num in rating]\n",
    "\n",
    "rating.pop()\n",
    "\n",
    "rating"
   ]
  },
  {
   "cell_type": "code",
   "execution_count": 13,
   "id": "9075a602",
   "metadata": {},
   "outputs": [
    {
     "data": {
      "text/plain": [
       "[23, 5, 3, 52, 6, 19, 1, 11, 31, 3]"
      ]
     },
     "execution_count": 13,
     "metadata": {},
     "output_type": "execute_result"
    }
   ],
   "source": [
    "total_ratings = [rating.span.string[8:][:-7] for rating in soup.select('div.ratings-group') if rating.b is not None]\n",
    "\n",
    "total_ratings.remove(total_ratings[-1])\n",
    "\n",
    "total_ratings = [int(num) for num in total_ratings]\n",
    "\n",
    "total_ratings"
   ]
  },
  {
   "cell_type": "code",
   "execution_count": 14,
   "id": "45bdfba9",
   "metadata": {},
   "outputs": [
    {
     "data": {
      "text/plain": [
       "[3.3, 4.6, 5.0, 4.7, 4.3, 5.0, 3.0, 4.7, 5.0, 5.0]"
      ]
     },
     "execution_count": 14,
     "metadata": {},
     "output_type": "execute_result"
    }
   ],
   "source": [
    "rating"
   ]
  },
  {
   "cell_type": "code",
   "execution_count": 15,
   "id": "bc7e5441",
   "metadata": {},
   "outputs": [
    {
     "data": {
      "text/plain": [
       "10"
      ]
     },
     "execution_count": 15,
     "metadata": {},
     "output_type": "execute_result"
    }
   ],
   "source": [
    "len(rating)"
   ]
  },
  {
   "cell_type": "code",
   "execution_count": 16,
   "id": "6d218fe5",
   "metadata": {},
   "outputs": [
    {
     "data": {
      "text/html": [
       "<div>\n",
       "<style scoped>\n",
       "    .dataframe tbody tr th:only-of-type {\n",
       "        vertical-align: middle;\n",
       "    }\n",
       "\n",
       "    .dataframe tbody tr th {\n",
       "        vertical-align: top;\n",
       "    }\n",
       "\n",
       "    .dataframe thead th {\n",
       "        text-align: right;\n",
       "    }\n",
       "</style>\n",
       "<table border=\"1\" class=\"dataframe\">\n",
       "  <thead>\n",
       "    <tr style=\"text-align: right;\">\n",
       "      <th></th>\n",
       "      <th>companies</th>\n",
       "      <th>address</th>\n",
       "      <th>rating</th>\n",
       "      <th>total_ratings</th>\n",
       "    </tr>\n",
       "  </thead>\n",
       "  <tbody>\n",
       "    <tr>\n",
       "      <th>0</th>\n",
       "      <td>Vijaya Management Services</td>\n",
       "      <td>Deccan Gymkhana, Pune, 411004</td>\n",
       "      <td>3.3</td>\n",
       "      <td>23</td>\n",
       "    </tr>\n",
       "    <tr>\n",
       "      <th>1</th>\n",
       "      <td>Vintage HR Corporate Consultants</td>\n",
       "      <td>Moshi, Pimpri Chinchwad, 410105</td>\n",
       "      <td>4.6</td>\n",
       "      <td>5</td>\n",
       "    </tr>\n",
       "    <tr>\n",
       "      <th>2</th>\n",
       "      <td>Citrus HR Consultants</td>\n",
       "      <td>Andheri East, Mumbai, 400059</td>\n",
       "      <td>5.0</td>\n",
       "      <td>3</td>\n",
       "    </tr>\n",
       "    <tr>\n",
       "      <th>3</th>\n",
       "      <td>Career Choice Solution</td>\n",
       "      <td>Vashi, Mumbai, 400705</td>\n",
       "      <td>4.7</td>\n",
       "      <td>52</td>\n",
       "    </tr>\n",
       "    <tr>\n",
       "      <th>4</th>\n",
       "      <td>Digigen Technology Pvt. Ltd.</td>\n",
       "      <td>Uttam Nagar, Delhi, 110059</td>\n",
       "      <td>4.3</td>\n",
       "      <td>6</td>\n",
       "    </tr>\n",
       "    <tr>\n",
       "      <th>5</th>\n",
       "      <td>Gateway HR Consultants Private Limited</td>\n",
       "      <td>Pune R.S., Pune, 412105</td>\n",
       "      <td>5.0</td>\n",
       "      <td>19</td>\n",
       "    </tr>\n",
       "    <tr>\n",
       "      <th>6</th>\n",
       "      <td>Ideal Crew Technology</td>\n",
       "      <td>Balaji Nagar, Pune, 411043</td>\n",
       "      <td>3.0</td>\n",
       "      <td>1</td>\n",
       "    </tr>\n",
       "    <tr>\n",
       "      <th>7</th>\n",
       "      <td>Inspire People Consultancy</td>\n",
       "      <td>Ganga Nagar, Bangalore, 560032</td>\n",
       "      <td>4.7</td>\n",
       "      <td>11</td>\n",
       "    </tr>\n",
       "    <tr>\n",
       "      <th>8</th>\n",
       "      <td>Orbitouch Outsourcing Pvt. Ltd.</td>\n",
       "      <td>Tilak Nagar, Delhi, 110057</td>\n",
       "      <td>5.0</td>\n",
       "      <td>31</td>\n",
       "    </tr>\n",
       "    <tr>\n",
       "      <th>9</th>\n",
       "      <td>Global Talent Pool</td>\n",
       "      <td>Mathikere, Bangalore, 560054</td>\n",
       "      <td>5.0</td>\n",
       "      <td>3</td>\n",
       "    </tr>\n",
       "  </tbody>\n",
       "</table>\n",
       "</div>"
      ],
      "text/plain": [
       "                                companies                          address  \\\n",
       "0              Vijaya Management Services    Deccan Gymkhana, Pune, 411004   \n",
       "1        Vintage HR Corporate Consultants  Moshi, Pimpri Chinchwad, 410105   \n",
       "2                   Citrus HR Consultants     Andheri East, Mumbai, 400059   \n",
       "3                  Career Choice Solution            Vashi, Mumbai, 400705   \n",
       "4            Digigen Technology Pvt. Ltd.       Uttam Nagar, Delhi, 110059   \n",
       "5  Gateway HR Consultants Private Limited          Pune R.S., Pune, 412105   \n",
       "6                   Ideal Crew Technology       Balaji Nagar, Pune, 411043   \n",
       "7              Inspire People Consultancy   Ganga Nagar, Bangalore, 560032   \n",
       "8         Orbitouch Outsourcing Pvt. Ltd.       Tilak Nagar, Delhi, 110057   \n",
       "9                     Global Talent Pool      Mathikere, Bangalore, 560054   \n",
       "\n",
       "   rating  total_ratings  \n",
       "0     3.3             23  \n",
       "1     4.6              5  \n",
       "2     5.0              3  \n",
       "3     4.7             52  \n",
       "4     4.3              6  \n",
       "5     5.0             19  \n",
       "6     3.0              1  \n",
       "7     4.7             11  \n",
       "8     5.0             31  \n",
       "9     5.0              3  "
      ]
     },
     "execution_count": 16,
     "metadata": {},
     "output_type": "execute_result"
    }
   ],
   "source": [
    "df = pd.DataFrame({'companies': companies, 'address': address, 'rating':rating,'total_ratings':total_ratings })\n",
    "\n",
    "df"
   ]
  },
  {
   "cell_type": "code",
   "execution_count": 17,
   "id": "911ffb2d",
   "metadata": {},
   "outputs": [],
   "source": [
    "df['total_ratings'] = df['rating']* df['total_ratings']"
   ]
  },
  {
   "cell_type": "code",
   "execution_count": 18,
   "id": "c6d8d788",
   "metadata": {},
   "outputs": [
    {
     "data": {
      "text/html": [
       "<div>\n",
       "<style scoped>\n",
       "    .dataframe tbody tr th:only-of-type {\n",
       "        vertical-align: middle;\n",
       "    }\n",
       "\n",
       "    .dataframe tbody tr th {\n",
       "        vertical-align: top;\n",
       "    }\n",
       "\n",
       "    .dataframe thead th {\n",
       "        text-align: right;\n",
       "    }\n",
       "</style>\n",
       "<table border=\"1\" class=\"dataframe\">\n",
       "  <thead>\n",
       "    <tr style=\"text-align: right;\">\n",
       "      <th></th>\n",
       "      <th>companies</th>\n",
       "      <th>address</th>\n",
       "      <th>rating</th>\n",
       "      <th>total_ratings</th>\n",
       "    </tr>\n",
       "  </thead>\n",
       "  <tbody>\n",
       "    <tr>\n",
       "      <th>0</th>\n",
       "      <td>Vijaya Management Services</td>\n",
       "      <td>Deccan Gymkhana, Pune, 411004</td>\n",
       "      <td>3.3</td>\n",
       "      <td>75.9</td>\n",
       "    </tr>\n",
       "    <tr>\n",
       "      <th>1</th>\n",
       "      <td>Vintage HR Corporate Consultants</td>\n",
       "      <td>Moshi, Pimpri Chinchwad, 410105</td>\n",
       "      <td>4.6</td>\n",
       "      <td>23.0</td>\n",
       "    </tr>\n",
       "    <tr>\n",
       "      <th>2</th>\n",
       "      <td>Citrus HR Consultants</td>\n",
       "      <td>Andheri East, Mumbai, 400059</td>\n",
       "      <td>5.0</td>\n",
       "      <td>15.0</td>\n",
       "    </tr>\n",
       "    <tr>\n",
       "      <th>3</th>\n",
       "      <td>Career Choice Solution</td>\n",
       "      <td>Vashi, Mumbai, 400705</td>\n",
       "      <td>4.7</td>\n",
       "      <td>244.4</td>\n",
       "    </tr>\n",
       "    <tr>\n",
       "      <th>4</th>\n",
       "      <td>Digigen Technology Pvt. Ltd.</td>\n",
       "      <td>Uttam Nagar, Delhi, 110059</td>\n",
       "      <td>4.3</td>\n",
       "      <td>25.8</td>\n",
       "    </tr>\n",
       "    <tr>\n",
       "      <th>5</th>\n",
       "      <td>Gateway HR Consultants Private Limited</td>\n",
       "      <td>Pune R.S., Pune, 412105</td>\n",
       "      <td>5.0</td>\n",
       "      <td>95.0</td>\n",
       "    </tr>\n",
       "    <tr>\n",
       "      <th>6</th>\n",
       "      <td>Ideal Crew Technology</td>\n",
       "      <td>Balaji Nagar, Pune, 411043</td>\n",
       "      <td>3.0</td>\n",
       "      <td>3.0</td>\n",
       "    </tr>\n",
       "    <tr>\n",
       "      <th>7</th>\n",
       "      <td>Inspire People Consultancy</td>\n",
       "      <td>Ganga Nagar, Bangalore, 560032</td>\n",
       "      <td>4.7</td>\n",
       "      <td>51.7</td>\n",
       "    </tr>\n",
       "    <tr>\n",
       "      <th>8</th>\n",
       "      <td>Orbitouch Outsourcing Pvt. Ltd.</td>\n",
       "      <td>Tilak Nagar, Delhi, 110057</td>\n",
       "      <td>5.0</td>\n",
       "      <td>155.0</td>\n",
       "    </tr>\n",
       "    <tr>\n",
       "      <th>9</th>\n",
       "      <td>Global Talent Pool</td>\n",
       "      <td>Mathikere, Bangalore, 560054</td>\n",
       "      <td>5.0</td>\n",
       "      <td>15.0</td>\n",
       "    </tr>\n",
       "  </tbody>\n",
       "</table>\n",
       "</div>"
      ],
      "text/plain": [
       "                                companies                          address  \\\n",
       "0              Vijaya Management Services    Deccan Gymkhana, Pune, 411004   \n",
       "1        Vintage HR Corporate Consultants  Moshi, Pimpri Chinchwad, 410105   \n",
       "2                   Citrus HR Consultants     Andheri East, Mumbai, 400059   \n",
       "3                  Career Choice Solution            Vashi, Mumbai, 400705   \n",
       "4            Digigen Technology Pvt. Ltd.       Uttam Nagar, Delhi, 110059   \n",
       "5  Gateway HR Consultants Private Limited          Pune R.S., Pune, 412105   \n",
       "6                   Ideal Crew Technology       Balaji Nagar, Pune, 411043   \n",
       "7              Inspire People Consultancy   Ganga Nagar, Bangalore, 560032   \n",
       "8         Orbitouch Outsourcing Pvt. Ltd.       Tilak Nagar, Delhi, 110057   \n",
       "9                     Global Talent Pool      Mathikere, Bangalore, 560054   \n",
       "\n",
       "   rating  total_ratings  \n",
       "0     3.3           75.9  \n",
       "1     4.6           23.0  \n",
       "2     5.0           15.0  \n",
       "3     4.7          244.4  \n",
       "4     4.3           25.8  \n",
       "5     5.0           95.0  \n",
       "6     3.0            3.0  \n",
       "7     4.7           51.7  \n",
       "8     5.0          155.0  \n",
       "9     5.0           15.0  "
      ]
     },
     "execution_count": 18,
     "metadata": {},
     "output_type": "execute_result"
    }
   ],
   "source": [
    "df"
   ]
  },
  {
   "cell_type": "code",
   "execution_count": 19,
   "id": "5d1eb1be",
   "metadata": {},
   "outputs": [],
   "source": [
    "df.to_csv('consultancy_services.csv', index=False)"
   ]
  },
  {
   "cell_type": "code",
   "execution_count": 20,
   "id": "d0c32b4e",
   "metadata": {},
   "outputs": [
    {
     "data": {
      "image/png": "[encoded data removed]",
      "text/plain": [
       "<Figure size 640x480 with 1 Axes>"
      ]
     },
     "metadata": {},
     "output_type": "display_data"
    }
   ],
   "source": [
    "df.plot(kind = 'barh',x = 'companies', y = 'total_ratings');"
   ]
  }
 ],
 "metadata": {
  "kernelspec": {
   "display_name": "Python 3 (ipykernel)",
   "language": "python",
   "name": "python3"
  },
  "language_info": {
   "codemirror_mode": {
    "name": "ipython",
    "version": 3
   },
   "file_extension": ".py",
   "mimetype": "text/x-python",
   "name": "python",
   "nbconvert_exporter": "python",
   "pygments_lexer": "ipython3",
   "version": "3.11.5"
  }
 },
 "nbformat": 4,
 "nbformat_minor": 5
}
